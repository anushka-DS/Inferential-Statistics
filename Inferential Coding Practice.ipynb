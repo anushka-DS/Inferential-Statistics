{
 "cells": [
  {
   "cell_type": "markdown",
   "metadata": {},
   "source": [
    "## Gambling 101\n",
    "\n",
    "You are participating in a lottery game. A deck of cards numbered from 1-50 is shuffled and 5 cards are drawn out and laid out. You are given a coin. For each card, you toss the coin and pick it up if it says heads, otherwise you don't pick it up. The sum of the cards is what you win.\n",
    "The lottery ticket costs c rupees. If the expected value of the sum of cards you pick up is less than the lottery ticket, then you buy another ticket otherwise you don't.\n",
    "\n",
    "Input Format:\n",
    "The first 5 lines of the input will contain 5 numbers between 1 to 50.\n",
    "The next line will contain c, the cost of lottery ticket.\n",
    "\n",
    "Output Format:\n",
    "Print \"Don't buy another\" if the expected value is less than the ticket price and print \"Buy another one\" if the expected value is more than the ticket price.\n",
    "\n",
    "**Sample Input:**\n",
    "1\n",
    "4\n",
    "6\n",
    "17\n",
    "3\n",
    "23\n",
    "\n",
    "**Sample Output:**\n",
    "Don't buy another\n",
    "\n",
    "**Note:** You have to take input using the input() function. For your practice with taking inputs, the stub will be empty."
   ]
  },
  {
   "cell_type": "code",
   "execution_count": null,
   "metadata": {},
   "outputs": [],
   "source": [
    "#my_input1 = input(\"Enter the 1st input here :\" )\n",
    "#my_input2 = input(\"Enter the 2nd input here :\" )\n",
    "#my_input3 = input(\"Enter the 3rd input here :\" )\n",
    "#my_input4 = input(\"Enter the 4th input here :\" )\n",
    "#my_input5 = input(\"Enter the 5th input here :\" )\n",
    "c = input(\"cost of lottery ticket here :\" )\n",
    "\n",
    "import ast,sys\n",
    "input_str = sys.stdin.read()\n",
    "input_list = ast.literal_eval(input_str)\n",
    "my_input=input_list[0]\n",
    "\n",
    "sum=0\n",
    "for i in range(0,5):\n",
    "    sum=sum+int(my_input[i])\n",
    "if sum<=int(c):\n",
    "    print(\"Don't buy another\")\n",
    "else:\n",
    "    print(\"Buy another one\")"
   ]
  },
  {
   "cell_type": "markdown",
   "metadata": {},
   "source": [
    "## Generating normal distribution\n",
    "\n",
    "Generate an array of real numbers representing a normal distribution. You will be given the mean and standard deviation as input. You have to generate 10 such numbers.\n",
    "**Hint:** You can use numpy's numpy's np.random here... np.random https://pynative.com/python-random-seed/.\n",
    "        \n",
    "To keep the output consistent, you have to set the seed as a specific number which will be given to you as input. Setting a seed means that every time you generate random numbers, they will be the same for the same seed. You can read more about it here.. https://pynative.com/python-random-seed/\n",
    "\n",
    "\n",
    "**Input Format:**\n",
    "The input will contain 3 lines which have the seed, mean and standard deviation of the distribution in the same order.\n",
    "The output will be a numpy array of the generated normal distribution.\n",
    "\n",
    "**Sample Input:**\n",
    "1\n",
    "0\n",
    "0.1"
   ]
  },
  {
   "cell_type": "code",
   "execution_count": 14,
   "metadata": {},
   "outputs": [
    {
     "name": "stdout",
     "output_type": "stream",
     "text": [
      "1\n",
      "0\n",
      "0.1\n",
      "[ 0.16243454 -0.06117564 -0.05281718 -0.10729686  0.08654076 -0.23015387\n",
      "  0.17448118 -0.07612069  0.03190391 -0.02493704]\n"
     ]
    }
   ],
   "source": [
    "import numpy as np \n",
    "seed=int(input())\n",
    "mean=float(input())\n",
    "std_dev=float(input())\n",
    "np.random.seed(seed)\n",
    "s = np.random.normal(mean, std_dev, 10)\n",
    "print(s)"
   ]
  },
  {
   "cell_type": "markdown",
   "metadata": {},
   "source": [
    "## Confidence Intervals\n",
    "\n",
    "For a given column in a dataframe, you have to calculate the 90 percent confidence interval for its mean value. (You can find Z* value for 90 percent confidence from previous segments)\n",
    "The input will have the column name. \n",
    "\n",
    "The output should have the confidence interval printed as a tuple.\n",
    "\n",
    "**Note:** Do not use the inbuilt function via statmodels.api or any other libraries. You should write the code on your own to get accurate answers.\n",
    "The confidence interval values have to be approximated up to two decimal places.\n",
    "\n",
    "**Sample Input:**\n",
    "GRE Score"
   ]
  },
  {
   "cell_type": "code",
   "execution_count": 2,
   "metadata": {},
   "outputs": [
    {
     "name": "stdout",
     "output_type": "stream",
     "text": [
      "GRE Score\n",
      "(315.86, 317.75)\n"
     ]
    }
   ],
   "source": [
    "import pandas as pd \n",
    "import numpy as np\n",
    "df=pd.read_csv(\"https://media-doselect.s3.amazonaws.com/generic/N9LKLvBAx1y14PLoBdL0yRn3/Admission_Predict.csv\")\n",
    "col=input()\n",
    "mean = df[col].mean()\n",
    "sd = df[col].std()\n",
    "n = len(df)\n",
    "Zstar=1.65\n",
    "se = sd/np.sqrt(n)\n",
    "lcb = mean - Zstar * se\n",
    "ucb = mean + Zstar * se\n",
    "print((round(lcb,2),round(ucb,2)))\n",
    "\n",
    "#via statmodels.api you can do this as follows:\n",
    "#import statsmodels.api as sm\n",
    "#sm.stats.DescrStatsW(df[col]).zconfint_mean()"
   ]
  },
  {
   "cell_type": "markdown",
   "metadata": {},
   "source": [
    "## College admissions\n",
    "\n",
    "The probability that a college will accept a student's application is x.\n",
    "Consider that m students have applied to college. You have to find the probability that at most n students are accepted by the college.\n",
    "\n",
    "The input will contain three lines with x, m and n respectively.\n",
    "The output should be rounded off to four decimal places.\n",
    "\n",
    "**Sample Input:**\n",
    "0.3\n",
    "5\n",
    "2\n",
    "\n",
    "**Sample Output:**\n",
    "0.8369"
   ]
  },
  {
   "cell_type": "code",
   "execution_count": null,
   "metadata": {},
   "outputs": [],
   "source": [
    "#probability of accepting an application\n",
    "x=float(input())\n",
    "\n",
    "#number of applicants\n",
    "m=int(input())\n",
    "\n",
    "#find the probability that at most n applications are accepted\n",
    "n=int(input())\n",
    "\n",
    "#write your code here\n",
    "import scipy.stats as ss\n",
    "\n",
    "dist=ss.binom(m,x)\n",
    "sum=0.0\n",
    "for i in range(0,n+1):\n",
    "    sum=sum+dist.pmf(i)\n",
    "print(round(sum,4))"
   ]
  },
  {
   "cell_type": "markdown",
   "metadata": {},
   "source": [
    "## Tossing a coin\n",
    "\n",
    "Given that you are tossing a coin n times, you have to find the probability of getting heads at most m times.\n",
    "The input will have two lines containing n and m respectively.\n",
    "\n",
    "**Sample Input:**\n",
    "10\n",
    "2\n",
    "\n",
    "**Sample Output:**\n",
    "0.0547"
   ]
  },
  {
   "cell_type": "code",
   "execution_count": null,
   "metadata": {},
   "outputs": [],
   "source": [
    "import scipy.stats as ss\n",
    "#number of trials\n",
    "n=int(input())\n",
    "\n",
    "# find the probability of getting at most m heads\n",
    "m=int(input())\n",
    "dist=ss.binom(n,0.5)\n",
    "sum=0.0\n",
    "for i in range(0,m+1):\n",
    "    sum=sum+dist.pmf(i)\n",
    "print(round(sum,4))\n",
    "#you can also use the following\n",
    "#round(dist.cdf(m),2)"
   ]
  },
  {
   "cell_type": "markdown",
   "metadata": {},
   "source": [
    "## Combination Theory\n",
    "\n",
    "You are given a list of n natural numbers. You select m numbers from the list at random. \n",
    "Find the probability that at least one of the selected alphabets is \"x\" where x is a number given to you as input.\n",
    "The first line of input will contain a list of numbers. The second line will contain m and the third line will contain x.\n",
    "\n",
    "The output should be printed out as float.\n",
    "\n",
    "**Sample Input:**\n",
    "[1,2,3,4,5,6,6,6,6,7,7,7]\n",
    "3\n",
    "6\n",
    "\n",
    "**Sample Output:**\n",
    "0.7454545454545455"
   ]
  },
  {
   "cell_type": "code",
   "execution_count": null,
   "metadata": {},
   "outputs": [],
   "source": [
    "import ast,sys\n",
    "input_str = sys.stdin.read()\n",
    "input_list = ast.literal_eval(input_str)\n",
    "nums=input_list[0]\n",
    "\n",
    "#m numbers are chosen\n",
    "m=int(input_list[1])\n",
    "\n",
    "#find probability of getting at least one x \n",
    "x=int(input_list[2])\n",
    "from itertools import combinations \n",
    "num = 0\n",
    "den = 0\n",
    "for c in combinations(nums,m):\n",
    "    den=den+1\n",
    "    if x in c:\n",
    "        num=num+1"
   ]
  },
  {
   "cell_type": "markdown",
   "metadata": {},
   "source": [
    "## Rolling the dice\n",
    "\n",
    "A die is rolled n times. You have to find the probability that a number i is rolled at least j times(up to four decimal places)\n",
    "The input will contain the integers n, i and j in three lines respectively. You can assume that j<n and 0<i<7.\n",
    "The output should be rounded off to four decimal places.\n",
    "\n",
    "**Sample Input:**\n",
    "4\n",
    "1\n",
    "2\n",
    "\n",
    "**Sample Output:**\n",
    "0.1319"
   ]
  },
  {
   "cell_type": "code",
   "execution_count": null,
   "metadata": {},
   "outputs": [],
   "source": [
    "import scipy.stats as ss\n",
    "n=int(input())\n",
    "i=int(input())\n",
    "j=int(input())\n",
    "dist=ss.binom(n,1/6)\n",
    "print(round(1-dist.cdf(j-1),4))"
   ]
  },
  {
   "cell_type": "markdown",
   "metadata": {},
   "source": [
    "## Lego Stack\n",
    "\n",
    "You are given a row of Lego Blocks consisting of n blocks. All the blocks given have a square base whose side length is known. You need to stack the blocks over each other and create a vertical tower. Block-1 can go over Block-2 only if sideLength(Block-2)>sideLength(Block-1).\n",
    "From the row of Lego blocks, you on only pick up either the leftmost or rightmost block.\n",
    "Print \"Possible\" if it is possible to stack all n cubes this way or else print \"Impossible\".\n",
    "\n",
    "**Input Format:**\n",
    "The input will contain a list of n integers representing the side length of each block's base in the row starting from the leftmost.\n",
    "\n",
    "**Sample Input:**\n",
    "[5 ,4, 2, 1, 4 ,5]\n",
    "\n",
    "**Sample Output:**\n",
    "Possible"
   ]
  },
  {
   "cell_type": "code",
   "execution_count": null,
   "metadata": {},
   "outputs": [],
   "source": [
    "import ast,sys\n",
    "input_str = sys.stdin.read()\n",
    "sides = ast.literal_eval(input_str)#list of side lengths\n",
    "l=len(sides)\n",
    "diff = [(sides[i]-sides[i+1]) for i in range(l-1)]\n",
    "i = 0 \n",
    "while (i<l-1 and diff[i]>=0) : i += 1 \n",
    "while (i<l-1 and diff[i]<=0) : i += 1\n",
    "if (i==l-1) : print(\"Possible\") \n",
    "else : print(\"Impossible\")\n",
    "\n",
    "#to understand the code, try printing out all intermediate variables."
   ]
  },
  {
   "cell_type": "code",
   "execution_count": null,
   "metadata": {},
   "outputs": [],
   "source": []
  }
 ],
 "metadata": {
  "kernelspec": {
   "display_name": "Python 3",
   "language": "python",
   "name": "python3"
  },
  "language_info": {
   "codemirror_mode": {
    "name": "ipython",
    "version": 3
   },
   "file_extension": ".py",
   "mimetype": "text/x-python",
   "name": "python",
   "nbconvert_exporter": "python",
   "pygments_lexer": "ipython3",
   "version": "3.8.5"
  }
 },
 "nbformat": 4,
 "nbformat_minor": 4
}
